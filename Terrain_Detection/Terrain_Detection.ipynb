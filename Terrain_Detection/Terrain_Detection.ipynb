{
  "nbformat": 4,
  "nbformat_minor": 0,
  "metadata": {
    "colab": {
      "provenance": [],
      "gpuType": "T4"
    },
    "kernelspec": {
      "name": "python3",
      "display_name": "Python 3"
    },
    "language_info": {
      "name": "python"
    },
    "accelerator": "GPU"
  },
  "cells": [
    {
      "cell_type": "code",
      "execution_count": 1,
      "metadata": {
        "colab": {
          "base_uri": "https://localhost:8080/"
        },
        "id": "bpnD3ZOeio70",
        "outputId": "a822f01b-0638-4467-a939-6f45a211cd19"
      },
      "outputs": [
        {
          "output_type": "stream",
          "name": "stdout",
          "text": [
            "Requirement already satisfied: kaggle in /usr/local/lib/python3.10/dist-packages (1.5.16)\n",
            "Requirement already satisfied: six>=1.10 in /usr/local/lib/python3.10/dist-packages (from kaggle) (1.16.0)\n",
            "Requirement already satisfied: certifi in /usr/local/lib/python3.10/dist-packages (from kaggle) (2023.7.22)\n",
            "Requirement already satisfied: python-dateutil in /usr/local/lib/python3.10/dist-packages (from kaggle) (2.8.2)\n",
            "Requirement already satisfied: requests in /usr/local/lib/python3.10/dist-packages (from kaggle) (2.31.0)\n",
            "Requirement already satisfied: tqdm in /usr/local/lib/python3.10/dist-packages (from kaggle) (4.66.1)\n",
            "Requirement already satisfied: python-slugify in /usr/local/lib/python3.10/dist-packages (from kaggle) (8.0.1)\n",
            "Requirement already satisfied: urllib3 in /usr/local/lib/python3.10/dist-packages (from kaggle) (2.0.5)\n",
            "Requirement already satisfied: bleach in /usr/local/lib/python3.10/dist-packages (from kaggle) (6.0.0)\n",
            "Requirement already satisfied: webencodings in /usr/local/lib/python3.10/dist-packages (from bleach->kaggle) (0.5.1)\n",
            "Requirement already satisfied: text-unidecode>=1.3 in /usr/local/lib/python3.10/dist-packages (from python-slugify->kaggle) (1.3)\n",
            "Requirement already satisfied: charset-normalizer<4,>=2 in /usr/local/lib/python3.10/dist-packages (from requests->kaggle) (3.2.0)\n",
            "Requirement already satisfied: idna<4,>=2.5 in /usr/local/lib/python3.10/dist-packages (from requests->kaggle) (3.4)\n"
          ]
        }
      ],
      "source": [
        "!pip install kaggle"
      ]
    },
    {
      "cell_type": "code",
      "source": [
        "!mkdir -p ~/.kaggle\n",
        "!cp kaggle.json ~/.kaggle/\n",
        "!chmod 600 ~/.kaggle/kaggle.json"
      ],
      "metadata": {
        "id": "Snl-oDZ_i60V"
      },
      "execution_count": 2,
      "outputs": []
    },
    {
      "cell_type": "code",
      "source": [
        "!kaggle datasets download -d atharv1610/terrain-recognition"
      ],
      "metadata": {
        "colab": {
          "base_uri": "https://localhost:8080/"
        },
        "id": "XLOWvOTxi623",
        "outputId": "a543c753-3eb0-4bbd-9a1c-ff15d51ecacb"
      },
      "execution_count": 3,
      "outputs": [
        {
          "output_type": "stream",
          "name": "stdout",
          "text": [
            "terrain-recognition.zip: Skipping, found more recently modified local copy (use --force to force download)\n"
          ]
        }
      ]
    },
    {
      "cell_type": "code",
      "source": [
        "# extracting the compessed Dataset\n",
        "from zipfile import ZipFile\n",
        "dataset = '/content/terrain-recognition.zip'\n",
        "\n",
        "with ZipFile(dataset,'r') as zip:\n",
        "  zip.extractall()\n",
        "  print('The dataset is extracted')"
      ],
      "metadata": {
        "colab": {
          "base_uri": "https://localhost:8080/"
        },
        "id": "hpfcfpR7lJXk",
        "outputId": "6c53b839-e4de-4dd3-9108-728bbb522a93"
      },
      "execution_count": 4,
      "outputs": [
        {
          "output_type": "stream",
          "name": "stdout",
          "text": [
            "The dataset is extracted\n"
          ]
        }
      ]
    },
    {
      "cell_type": "code",
      "source": [
        "!ls"
      ],
      "metadata": {
        "colab": {
          "base_uri": "https://localhost:8080/"
        },
        "id": "MFEsDCI2i65k",
        "outputId": "46683f77-5e81-477a-ece4-b61c3494340c"
      },
      "execution_count": 5,
      "outputs": [
        {
          "output_type": "stream",
          "name": "stdout",
          "text": [
            "'Data Main'   kaggle.json   sample_data   terrain-recognition.zip\n"
          ]
        }
      ]
    },
    {
      "cell_type": "code",
      "source": [
        "import os\n",
        "import numpy as np\n",
        "import matplotlib.pyplot as plt\n",
        "import matplotlib.image as mpimg\n",
        "import cv2\n",
        "from google.colab.patches import cv2_imshow\n",
        "from PIL import Image\n",
        "from sklearn.model_selection import train_test_split"
      ],
      "metadata": {
        "id": "zLpw7vJqi684"
      },
      "execution_count": 6,
      "outputs": []
    },
    {
      "cell_type": "code",
      "source": [
        "grassy = os.listdir('/content/Data Main/train/Grassy')\n",
        "print(grassy[0:5])\n",
        "print(grassy[-5:])"
      ],
      "metadata": {
        "colab": {
          "base_uri": "https://localhost:8080/"
        },
        "id": "weuTjeR8i7AQ",
        "outputId": "14062530-de72-423f-ddfa-9943ecd9b291"
      },
      "execution_count": 7,
      "outputs": [
        {
          "output_type": "stream",
          "name": "stdout",
          "text": [
            "['Grassy (7)_16_21.png', 'Grassy (12)_13_29.png', 'Grassy (11)_6_21.png', 'Grassy (5)_3_25.png', 'Grassy (5)_3_28.png']\n",
            "['Grassy (14)_6_16.png', 'Grassy (11)_11_14.png', 'Grassy (11)_15_29.png', 'Grassy (19)_7_10.png', 'Grassy (18)_9_29.png']\n"
          ]
        }
      ]
    },
    {
      "cell_type": "code",
      "source": [
        "print(len(grassy))"
      ],
      "metadata": {
        "colab": {
          "base_uri": "https://localhost:8080/"
        },
        "id": "bQAGpFOFi7Dc",
        "outputId": "f0b1b6a4-256e-439a-88b2-98466a91d42c"
      },
      "execution_count": 8,
      "outputs": [
        {
          "output_type": "stream",
          "name": "stdout",
          "text": [
            "8512\n"
          ]
        }
      ]
    },
    {
      "cell_type": "code",
      "source": [
        "marshy = os.listdir('/content/Data Main/train/Marshy')\n",
        "rocky = os.listdir('/content/Data Main/train/Rocky')\n",
        "sandy = os.listdir('/content/Data Main/train/Sandy')"
      ],
      "metadata": {
        "id": "qoeglx9Oi7Gj"
      },
      "execution_count": 9,
      "outputs": []
    },
    {
      "cell_type": "code",
      "source": [
        "print(len(marshy))"
      ],
      "metadata": {
        "colab": {
          "base_uri": "https://localhost:8080/"
        },
        "id": "4XNxlivDi7Js",
        "outputId": "e847c008-662d-4131-f5ee-447a3dd31e13"
      },
      "execution_count": 10,
      "outputs": [
        {
          "output_type": "stream",
          "name": "stdout",
          "text": [
            "7727\n"
          ]
        }
      ]
    },
    {
      "cell_type": "code",
      "source": [
        "grassy_lables=[0]*(len(grassy))\n",
        "marshy_lables=[1]*len(marshy)\n",
        "rocky_lables=[2]*len(rocky)\n",
        "sandy_lables=[3]*len(sandy)"
      ],
      "metadata": {
        "id": "3V_G7rbUi7Nk"
      },
      "execution_count": 11,
      "outputs": []
    },
    {
      "cell_type": "code",
      "source": [
        "labels=grassy_lables+marshy_lables+rocky_lables+sandy_lables"
      ],
      "metadata": {
        "id": "lOJVqmVHkOCE"
      },
      "execution_count": 12,
      "outputs": []
    },
    {
      "cell_type": "code",
      "source": [
        "print(len(labels))"
      ],
      "metadata": {
        "colab": {
          "base_uri": "https://localhost:8080/"
        },
        "id": "4tEkFQzBkN_0",
        "outputId": "e2d084cf-25df-4730-92c6-0e3fd6b7e4f1"
      },
      "execution_count": 13,
      "outputs": [
        {
          "output_type": "stream",
          "name": "stdout",
          "text": [
            "31571\n"
          ]
        }
      ]
    },
    {
      "cell_type": "code",
      "source": [
        "# convert images to numpy arrays+\n",
        "grassy_path = '/content/Data Main/train/Grassy/'\n",
        "\n",
        "data = []\n",
        "\n",
        "for img_file in grassy:\n",
        "\n",
        "  image = Image.open(grassy_path + img_file)\n",
        "  image = image.resize((64,64))\n",
        "  image = image.convert('RGB')\n",
        "  image = np.array(image)\n",
        "  data.append(image)\n",
        "\n",
        "\n",
        "\n",
        "marshy_path = '/content/Data Main/train/Marshy/'\n",
        "\n",
        "\n",
        "for img_file in marshy:\n",
        "\n",
        "  image = Image.open(marshy_path + img_file)\n",
        "  image = image.resize((64,64))\n",
        "  image = image.convert('RGB')\n",
        "  image = np.array(image)\n",
        "  data.append(image)\n",
        "\n",
        "\n",
        "rocky_path = '/content/Data Main/train/Rocky/'\n",
        "\n",
        "\n",
        "for img_file in rocky:\n",
        "\n",
        "  image = Image.open(rocky_path + img_file)\n",
        "  image = image.resize((64,64))\n",
        "  image = image.convert('RGB')\n",
        "  image = np.array(image)\n",
        "  data.append(image)\n",
        "\n",
        "sandy_path = '/content/Data Main/train/Sandy/'\n",
        "\n",
        "\n",
        "for img_file in sandy:\n",
        "\n",
        "  image = Image.open(sandy_path + img_file)\n",
        "  image = image.resize((64,64))\n",
        "  image = image.convert('RGB')\n",
        "  image = np.array(image)\n",
        "  data.append(image)"
      ],
      "metadata": {
        "id": "MMS2-VQekN9H"
      },
      "execution_count": 14,
      "outputs": []
    },
    {
      "cell_type": "code",
      "source": [
        "X = np.array(data)\n",
        "Y = np.array(labels)"
      ],
      "metadata": {
        "id": "UQOQVQv7kN6d"
      },
      "execution_count": 15,
      "outputs": []
    },
    {
      "cell_type": "code",
      "source": [
        "print(X.shape)\n",
        "print(Y.shape)"
      ],
      "metadata": {
        "colab": {
          "base_uri": "https://localhost:8080/"
        },
        "id": "t89kmPHnkN3k",
        "outputId": "25040e98-7a3a-4605-be7b-df897ef7e940"
      },
      "execution_count": 16,
      "outputs": [
        {
          "output_type": "stream",
          "name": "stdout",
          "text": [
            "(31571, 64, 64, 3)\n",
            "(31571,)\n"
          ]
        }
      ]
    },
    {
      "cell_type": "code",
      "source": [
        "X_train, X_test, Y_train, Y_test = train_test_split(X, Y, test_size=0.3, random_state=2)"
      ],
      "metadata": {
        "id": "kL33jp3ii7tG"
      },
      "execution_count": 17,
      "outputs": []
    },
    {
      "cell_type": "code",
      "source": [
        "print(X_train[0])"
      ],
      "metadata": {
        "colab": {
          "base_uri": "https://localhost:8080/"
        },
        "id": "JSi0LYQxi7wt",
        "outputId": "fefa171f-e9ef-485d-d4c9-f40725d3849b"
      },
      "execution_count": 18,
      "outputs": [
        {
          "output_type": "stream",
          "name": "stdout",
          "text": [
            "[[[ 57  47  54]\n",
            "  [ 58  49  53]\n",
            "  [ 60  48  56]\n",
            "  ...\n",
            "  [135 116 117]\n",
            "  [157 141 141]\n",
            "  [137 120 123]]\n",
            "\n",
            " [[ 60  51  55]\n",
            "  [ 72  63  65]\n",
            "  [ 79  67  71]\n",
            "  ...\n",
            "  [ 87  71  77]\n",
            "  [124 109 115]\n",
            "  [130 116 123]]\n",
            "\n",
            " [[ 60  57  62]\n",
            "  [ 71  68  73]\n",
            "  [ 84  80  85]\n",
            "  ...\n",
            "  [104  89  94]\n",
            "  [ 96  81  88]\n",
            "  [ 81  69  74]]\n",
            "\n",
            " ...\n",
            "\n",
            " [[ 64  52  61]\n",
            "  [ 68  55  65]\n",
            "  [ 77  65  75]\n",
            "  ...\n",
            "  [ 62  54  59]\n",
            "  [ 75  67  72]\n",
            "  [ 85  75  80]]\n",
            "\n",
            " [[ 66  55  64]\n",
            "  [ 68  56  66]\n",
            "  [ 75  63  74]\n",
            "  ...\n",
            "  [ 71  62  68]\n",
            "  [ 74  64  69]\n",
            "  [ 85  74  79]]\n",
            "\n",
            " [[ 69  57  66]\n",
            "  [ 71  60  70]\n",
            "  [ 69  59  70]\n",
            "  ...\n",
            "  [ 81  70  77]\n",
            "  [ 85  74  81]\n",
            "  [ 82  74  78]]]\n"
          ]
        }
      ]
    },
    {
      "cell_type": "code",
      "source": [
        "print(X.shape, X_train.shape, X_test.shape)"
      ],
      "metadata": {
        "colab": {
          "base_uri": "https://localhost:8080/"
        },
        "id": "8SPAnjhUmDcd",
        "outputId": "1626ea14-643d-4a2d-a400-3f138415536a"
      },
      "execution_count": 19,
      "outputs": [
        {
          "output_type": "stream",
          "name": "stdout",
          "text": [
            "(31571, 64, 64, 3) (22099, 64, 64, 3) (9472, 64, 64, 3)\n"
          ]
        }
      ]
    },
    {
      "cell_type": "code",
      "source": [
        "X_train_scaled = X_train/255\n",
        "X_test_scaled = X_test/255"
      ],
      "metadata": {
        "id": "skCDP9atmDZ7"
      },
      "execution_count": 20,
      "outputs": []
    },
    {
      "cell_type": "code",
      "source": [
        "import tensorflow as tf\n",
        "from tensorflow import keras\n",
        "import tensorflow as tf\n",
        "from tensorflow.keras import layers, models\n",
        "import tensorflow as tf\n",
        "from tensorflow.keras.models import Sequential  # Import Sequential from keras.models\n",
        "from tensorflow.keras.layers import Conv2D,MaxPooling2D,Flatten,Dense,Dropout"
      ],
      "metadata": {
        "id": "5iiZzjL1mNwT"
      },
      "execution_count": 21,
      "outputs": []
    },
    {
      "cell_type": "code",
      "source": [
        "num_of_classes = 4\n",
        "\n",
        "model = keras.Sequential()\n",
        "\n",
        "model.add(keras.layers.Conv2D(32, kernel_size=(3,3), activation='relu', input_shape=(64,64,3)))\n",
        "model.add(keras.layers.MaxPooling2D(pool_size=(2,2)))\n",
        "\n",
        "\n",
        "model.add(keras.layers.Conv2D(64, kernel_size=(3,3), activation='relu'))\n",
        "model.add(keras.layers.MaxPooling2D(pool_size=(2,2)))\n",
        "\n",
        "model.add(keras.layers.Flatten())\n",
        "\n",
        "model.add(keras.layers.Dense(128, activation='relu'))\n",
        "model.add(keras.layers.Dropout(0.5))\n",
        "\n",
        "model.add(keras.layers.Dense(64, activation='relu'))\n",
        "model.add(keras.layers.Dropout(0.5))\n",
        "\n",
        "\n",
        "model.add(keras.layers.Dense(num_of_classes, activation='softmax'))"
      ],
      "metadata": {
        "id": "XYvMg1JbmDXO"
      },
      "execution_count": 22,
      "outputs": []
    },
    {
      "cell_type": "code",
      "source": [
        "model.compile(optimizer='adam',\n",
        "              loss='sparse_categorical_crossentropy',\n",
        "              metrics=['acc'])"
      ],
      "metadata": {
        "id": "nzfG94HZmDUl"
      },
      "execution_count": 23,
      "outputs": []
    },
    {
      "cell_type": "code",
      "source": [
        "# history = model.fit(train_data,\n",
        "#                     batch_size=32,\n",
        "#                     epochs=15,\n",
        "#                     steps_per_epoch=len(train_data),\n",
        "#                     validation_data=validation_data,\n",
        "#                     validation_steps=len(validation_data))\n",
        "history = model.fit(X_train_scaled, Y_train, validation_split=0.1, epochs=15)"
      ],
      "metadata": {
        "colab": {
          "base_uri": "https://localhost:8080/"
        },
        "id": "mzAq5vZJmDR7",
        "outputId": "a0077207-9e79-4865-b909-db98f5d71fad"
      },
      "execution_count": 24,
      "outputs": [
        {
          "output_type": "stream",
          "name": "stdout",
          "text": [
            "Epoch 1/15\n",
            "622/622 [==============================] - 15s 8ms/step - loss: 0.7181 - acc: 0.7091 - val_loss: 0.4571 - val_acc: 0.8190\n",
            "Epoch 2/15\n",
            "622/622 [==============================] - 4s 7ms/step - loss: 0.4928 - acc: 0.8172 - val_loss: 0.4150 - val_acc: 0.8520\n",
            "Epoch 3/15\n",
            "622/622 [==============================] - 4s 6ms/step - loss: 0.4301 - acc: 0.8436 - val_loss: 0.3278 - val_acc: 0.8778\n",
            "Epoch 4/15\n",
            "622/622 [==============================] - 4s 6ms/step - loss: 0.3601 - acc: 0.8689 - val_loss: 0.2855 - val_acc: 0.8882\n",
            "Epoch 5/15\n",
            "622/622 [==============================] - 4s 7ms/step - loss: 0.3152 - acc: 0.8870 - val_loss: 0.3986 - val_acc: 0.8588\n",
            "Epoch 6/15\n",
            "622/622 [==============================] - 4s 6ms/step - loss: 0.2960 - acc: 0.8974 - val_loss: 0.2323 - val_acc: 0.9158\n",
            "Epoch 7/15\n",
            "622/622 [==============================] - 4s 7ms/step - loss: 0.2455 - acc: 0.9159 - val_loss: 0.3329 - val_acc: 0.8805\n",
            "Epoch 8/15\n",
            "622/622 [==============================] - 5s 9ms/step - loss: 0.2187 - acc: 0.9275 - val_loss: 0.1827 - val_acc: 0.9412\n",
            "Epoch 9/15\n",
            "622/622 [==============================] - 4s 6ms/step - loss: 0.2048 - acc: 0.9306 - val_loss: 0.1817 - val_acc: 0.9394\n",
            "Epoch 10/15\n",
            "622/622 [==============================] - 4s 6ms/step - loss: 0.1777 - acc: 0.9399 - val_loss: 0.2158 - val_acc: 0.9235\n",
            "Epoch 11/15\n",
            "622/622 [==============================] - 4s 7ms/step - loss: 0.1661 - acc: 0.9451 - val_loss: 0.2152 - val_acc: 0.9353\n",
            "Epoch 12/15\n",
            "622/622 [==============================] - 4s 7ms/step - loss: 0.1496 - acc: 0.9515 - val_loss: 0.2268 - val_acc: 0.9303\n",
            "Epoch 13/15\n",
            "622/622 [==============================] - 4s 7ms/step - loss: 0.1492 - acc: 0.9535 - val_loss: 0.1920 - val_acc: 0.9407\n",
            "Epoch 14/15\n",
            "622/622 [==============================] - 5s 7ms/step - loss: 0.1379 - acc: 0.9569 - val_loss: 0.1774 - val_acc: 0.9443\n",
            "Epoch 15/15\n",
            "622/622 [==============================] - 4s 7ms/step - loss: 0.1420 - acc: 0.9536 - val_loss: 0.2303 - val_acc: 0.9303\n"
          ]
        }
      ]
    },
    {
      "cell_type": "code",
      "source": [
        "loss, accuracy = model.evaluate(X_test_scaled, Y_test)\n",
        "print('Test Accuracy =', accuracy)"
      ],
      "metadata": {
        "colab": {
          "base_uri": "https://localhost:8080/"
        },
        "id": "yDQw2RjCmDPL",
        "outputId": "ef5edbf8-1d7f-4b69-c546-e088b15f5863"
      },
      "execution_count": 25,
      "outputs": [
        {
          "output_type": "stream",
          "name": "stdout",
          "text": [
            "296/296 [==============================] - 1s 4ms/step - loss: 0.2147 - acc: 0.9330\n",
            "Test Accuracy = 0.9329603314399719\n"
          ]
        }
      ]
    },
    {
      "cell_type": "code",
      "source": [],
      "metadata": {
        "id": "0Sba08wymDMc"
      },
      "execution_count": 25,
      "outputs": []
    }
  ]
}